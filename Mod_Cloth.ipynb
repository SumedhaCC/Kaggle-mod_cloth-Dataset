{
 "cells": [
  {
   "cell_type": "code",
   "execution_count": 2,
   "id": "c66a98ca",
   "metadata": {},
   "outputs": [],
   "source": [
    "import pandas as pd\n",
    "import numpy as np"
   ]
  },
  {
   "cell_type": "code",
   "execution_count": 3,
   "id": "580630cb",
   "metadata": {},
   "outputs": [],
   "source": [
    "mod_cloth = pd.read_json(\"modcloth_final_data.json\",lines=True)"
   ]
  },
  {
   "cell_type": "code",
   "execution_count": 8,
   "id": "01e11a68",
   "metadata": {},
   "outputs": [
    {
     "data": {
      "text/html": [
       "<div>\n",
       "<style scoped>\n",
       "    .dataframe tbody tr th:only-of-type {\n",
       "        vertical-align: middle;\n",
       "    }\n",
       "\n",
       "    .dataframe tbody tr th {\n",
       "        vertical-align: top;\n",
       "    }\n",
       "\n",
       "    .dataframe thead th {\n",
       "        text-align: right;\n",
       "    }\n",
       "</style>\n",
       "<table border=\"1\" class=\"dataframe\">\n",
       "  <thead>\n",
       "    <tr style=\"text-align: right;\">\n",
       "      <th></th>\n",
       "      <th>item_id</th>\n",
       "      <th>waist</th>\n",
       "      <th>size</th>\n",
       "      <th>quality</th>\n",
       "      <th>cup size</th>\n",
       "      <th>hips</th>\n",
       "      <th>bra size</th>\n",
       "      <th>category</th>\n",
       "      <th>bust</th>\n",
       "      <th>height</th>\n",
       "      <th>user_name</th>\n",
       "      <th>length</th>\n",
       "      <th>fit</th>\n",
       "      <th>user_id</th>\n",
       "      <th>shoe size</th>\n",
       "      <th>shoe width</th>\n",
       "      <th>review_summary</th>\n",
       "      <th>review_text</th>\n",
       "    </tr>\n",
       "  </thead>\n",
       "  <tbody>\n",
       "    <tr>\n",
       "      <th>0</th>\n",
       "      <td>123373</td>\n",
       "      <td>29.0</td>\n",
       "      <td>7</td>\n",
       "      <td>5.0</td>\n",
       "      <td>d</td>\n",
       "      <td>38.0</td>\n",
       "      <td>34.0</td>\n",
       "      <td>new</td>\n",
       "      <td>36</td>\n",
       "      <td>5ft 6in</td>\n",
       "      <td>Emily</td>\n",
       "      <td>just right</td>\n",
       "      <td>small</td>\n",
       "      <td>991571</td>\n",
       "      <td>NaN</td>\n",
       "      <td>NaN</td>\n",
       "      <td>NaN</td>\n",
       "      <td>NaN</td>\n",
       "    </tr>\n",
       "    <tr>\n",
       "      <th>1</th>\n",
       "      <td>123373</td>\n",
       "      <td>31.0</td>\n",
       "      <td>13</td>\n",
       "      <td>3.0</td>\n",
       "      <td>b</td>\n",
       "      <td>30.0</td>\n",
       "      <td>36.0</td>\n",
       "      <td>new</td>\n",
       "      <td>NaN</td>\n",
       "      <td>5ft 2in</td>\n",
       "      <td>sydneybraden2001</td>\n",
       "      <td>just right</td>\n",
       "      <td>small</td>\n",
       "      <td>587883</td>\n",
       "      <td>NaN</td>\n",
       "      <td>NaN</td>\n",
       "      <td>NaN</td>\n",
       "      <td>NaN</td>\n",
       "    </tr>\n",
       "    <tr>\n",
       "      <th>2</th>\n",
       "      <td>123373</td>\n",
       "      <td>30.0</td>\n",
       "      <td>7</td>\n",
       "      <td>2.0</td>\n",
       "      <td>b</td>\n",
       "      <td>NaN</td>\n",
       "      <td>32.0</td>\n",
       "      <td>new</td>\n",
       "      <td>NaN</td>\n",
       "      <td>5ft 7in</td>\n",
       "      <td>Ugggh</td>\n",
       "      <td>slightly long</td>\n",
       "      <td>small</td>\n",
       "      <td>395665</td>\n",
       "      <td>9.0</td>\n",
       "      <td>NaN</td>\n",
       "      <td>NaN</td>\n",
       "      <td>NaN</td>\n",
       "    </tr>\n",
       "    <tr>\n",
       "      <th>3</th>\n",
       "      <td>123373</td>\n",
       "      <td>NaN</td>\n",
       "      <td>21</td>\n",
       "      <td>5.0</td>\n",
       "      <td>dd/e</td>\n",
       "      <td>NaN</td>\n",
       "      <td>NaN</td>\n",
       "      <td>new</td>\n",
       "      <td>NaN</td>\n",
       "      <td>NaN</td>\n",
       "      <td>alexmeyer626</td>\n",
       "      <td>just right</td>\n",
       "      <td>fit</td>\n",
       "      <td>875643</td>\n",
       "      <td>NaN</td>\n",
       "      <td>NaN</td>\n",
       "      <td>NaN</td>\n",
       "      <td>NaN</td>\n",
       "    </tr>\n",
       "    <tr>\n",
       "      <th>4</th>\n",
       "      <td>123373</td>\n",
       "      <td>NaN</td>\n",
       "      <td>18</td>\n",
       "      <td>5.0</td>\n",
       "      <td>b</td>\n",
       "      <td>NaN</td>\n",
       "      <td>36.0</td>\n",
       "      <td>new</td>\n",
       "      <td>NaN</td>\n",
       "      <td>5ft 2in</td>\n",
       "      <td>dberrones1</td>\n",
       "      <td>slightly long</td>\n",
       "      <td>small</td>\n",
       "      <td>944840</td>\n",
       "      <td>NaN</td>\n",
       "      <td>NaN</td>\n",
       "      <td>NaN</td>\n",
       "      <td>NaN</td>\n",
       "    </tr>\n",
       "    <tr>\n",
       "      <th>...</th>\n",
       "      <td>...</td>\n",
       "      <td>...</td>\n",
       "      <td>...</td>\n",
       "      <td>...</td>\n",
       "      <td>...</td>\n",
       "      <td>...</td>\n",
       "      <td>...</td>\n",
       "      <td>...</td>\n",
       "      <td>...</td>\n",
       "      <td>...</td>\n",
       "      <td>...</td>\n",
       "      <td>...</td>\n",
       "      <td>...</td>\n",
       "      <td>...</td>\n",
       "      <td>...</td>\n",
       "      <td>...</td>\n",
       "      <td>...</td>\n",
       "      <td>...</td>\n",
       "    </tr>\n",
       "    <tr>\n",
       "      <th>82785</th>\n",
       "      <td>807722</td>\n",
       "      <td>NaN</td>\n",
       "      <td>8</td>\n",
       "      <td>4.0</td>\n",
       "      <td>b</td>\n",
       "      <td>NaN</td>\n",
       "      <td>36.0</td>\n",
       "      <td>outerwear</td>\n",
       "      <td>NaN</td>\n",
       "      <td>5ft 8in</td>\n",
       "      <td>Jennifer</td>\n",
       "      <td>just right</td>\n",
       "      <td>fit</td>\n",
       "      <td>727820</td>\n",
       "      <td>8.5</td>\n",
       "      <td>average</td>\n",
       "      <td>Cute jacket!</td>\n",
       "      <td>Cute jacket!</td>\n",
       "    </tr>\n",
       "    <tr>\n",
       "      <th>82786</th>\n",
       "      <td>807722</td>\n",
       "      <td>NaN</td>\n",
       "      <td>12</td>\n",
       "      <td>5.0</td>\n",
       "      <td>ddd/f</td>\n",
       "      <td>NaN</td>\n",
       "      <td>34.0</td>\n",
       "      <td>outerwear</td>\n",
       "      <td>NaN</td>\n",
       "      <td>5ft 5in</td>\n",
       "      <td>Kelli</td>\n",
       "      <td>slightly long</td>\n",
       "      <td>small</td>\n",
       "      <td>197040</td>\n",
       "      <td>NaN</td>\n",
       "      <td>NaN</td>\n",
       "      <td>It's a beautiful jacket.</td>\n",
       "      <td>It's a beautiful jacket. I love how it's knit ...</td>\n",
       "    </tr>\n",
       "    <tr>\n",
       "      <th>82787</th>\n",
       "      <td>807722</td>\n",
       "      <td>NaN</td>\n",
       "      <td>12</td>\n",
       "      <td>5.0</td>\n",
       "      <td>dddd/g</td>\n",
       "      <td>36.0</td>\n",
       "      <td>32.0</td>\n",
       "      <td>outerwear</td>\n",
       "      <td>NaN</td>\n",
       "      <td>5ft 4in</td>\n",
       "      <td>elacount</td>\n",
       "      <td>just right</td>\n",
       "      <td>fit</td>\n",
       "      <td>102493</td>\n",
       "      <td>NaN</td>\n",
       "      <td>NaN</td>\n",
       "      <td>I love this blazer. It is</td>\n",
       "      <td>I love this blazer. It is a great office piece...</td>\n",
       "    </tr>\n",
       "    <tr>\n",
       "      <th>82788</th>\n",
       "      <td>807722</td>\n",
       "      <td>NaN</td>\n",
       "      <td>12</td>\n",
       "      <td>4.0</td>\n",
       "      <td>NaN</td>\n",
       "      <td>NaN</td>\n",
       "      <td>NaN</td>\n",
       "      <td>outerwear</td>\n",
       "      <td>NaN</td>\n",
       "      <td>5ft 3in</td>\n",
       "      <td>jennaklinner</td>\n",
       "      <td>just right</td>\n",
       "      <td>fit</td>\n",
       "      <td>756491</td>\n",
       "      <td>NaN</td>\n",
       "      <td>NaN</td>\n",
       "      <td>I love this blazer!! I wo</td>\n",
       "      <td>I love this blazer!! I wore it yesterday and g...</td>\n",
       "    </tr>\n",
       "    <tr>\n",
       "      <th>82789</th>\n",
       "      <td>807722</td>\n",
       "      <td>NaN</td>\n",
       "      <td>4</td>\n",
       "      <td>4.0</td>\n",
       "      <td>d</td>\n",
       "      <td>39.0</td>\n",
       "      <td>32.0</td>\n",
       "      <td>outerwear</td>\n",
       "      <td>NaN</td>\n",
       "      <td>6ft</td>\n",
       "      <td>maireadsteadman</td>\n",
       "      <td>just right</td>\n",
       "      <td>fit</td>\n",
       "      <td>78305</td>\n",
       "      <td>NaN</td>\n",
       "      <td>NaN</td>\n",
       "      <td>I love this piece. I'm re</td>\n",
       "      <td>I love this piece. I'm really happy with it!</td>\n",
       "    </tr>\n",
       "  </tbody>\n",
       "</table>\n",
       "<p>82790 rows × 18 columns</p>\n",
       "</div>"
      ],
      "text/plain": [
       "       item_id  waist  size  quality cup size  hips  bra size   category bust  \\\n",
       "0       123373   29.0     7      5.0        d  38.0      34.0        new   36   \n",
       "1       123373   31.0    13      3.0        b  30.0      36.0        new  NaN   \n",
       "2       123373   30.0     7      2.0        b   NaN      32.0        new  NaN   \n",
       "3       123373    NaN    21      5.0     dd/e   NaN       NaN        new  NaN   \n",
       "4       123373    NaN    18      5.0        b   NaN      36.0        new  NaN   \n",
       "...        ...    ...   ...      ...      ...   ...       ...        ...  ...   \n",
       "82785   807722    NaN     8      4.0        b   NaN      36.0  outerwear  NaN   \n",
       "82786   807722    NaN    12      5.0    ddd/f   NaN      34.0  outerwear  NaN   \n",
       "82787   807722    NaN    12      5.0   dddd/g  36.0      32.0  outerwear  NaN   \n",
       "82788   807722    NaN    12      4.0      NaN   NaN       NaN  outerwear  NaN   \n",
       "82789   807722    NaN     4      4.0        d  39.0      32.0  outerwear  NaN   \n",
       "\n",
       "        height         user_name         length    fit  user_id  shoe size  \\\n",
       "0      5ft 6in             Emily     just right  small   991571        NaN   \n",
       "1      5ft 2in  sydneybraden2001     just right  small   587883        NaN   \n",
       "2      5ft 7in             Ugggh  slightly long  small   395665        9.0   \n",
       "3          NaN      alexmeyer626     just right    fit   875643        NaN   \n",
       "4      5ft 2in        dberrones1  slightly long  small   944840        NaN   \n",
       "...        ...               ...            ...    ...      ...        ...   \n",
       "82785  5ft 8in          Jennifer     just right    fit   727820        8.5   \n",
       "82786  5ft 5in             Kelli  slightly long  small   197040        NaN   \n",
       "82787  5ft 4in          elacount     just right    fit   102493        NaN   \n",
       "82788  5ft 3in      jennaklinner     just right    fit   756491        NaN   \n",
       "82789      6ft   maireadsteadman     just right    fit    78305        NaN   \n",
       "\n",
       "      shoe width             review_summary  \\\n",
       "0            NaN                        NaN   \n",
       "1            NaN                        NaN   \n",
       "2            NaN                        NaN   \n",
       "3            NaN                        NaN   \n",
       "4            NaN                        NaN   \n",
       "...          ...                        ...   \n",
       "82785    average               Cute jacket!   \n",
       "82786        NaN   It's a beautiful jacket.   \n",
       "82787        NaN  I love this blazer. It is   \n",
       "82788        NaN  I love this blazer!! I wo   \n",
       "82789        NaN  I love this piece. I'm re   \n",
       "\n",
       "                                             review_text  \n",
       "0                                                    NaN  \n",
       "1                                                    NaN  \n",
       "2                                                    NaN  \n",
       "3                                                    NaN  \n",
       "4                                                    NaN  \n",
       "...                                                  ...  \n",
       "82785                                       Cute jacket!  \n",
       "82786  It's a beautiful jacket. I love how it's knit ...  \n",
       "82787  I love this blazer. It is a great office piece...  \n",
       "82788  I love this blazer!! I wore it yesterday and g...  \n",
       "82789       I love this piece. I'm really happy with it!  \n",
       "\n",
       "[82790 rows x 18 columns]"
      ]
     },
     "execution_count": 8,
     "metadata": {},
     "output_type": "execute_result"
    }
   ],
   "source": [
    "mod_cloth"
   ]
  },
  {
   "cell_type": "code",
   "execution_count": 5,
   "id": "368f604a",
   "metadata": {},
   "outputs": [
    {
     "data": {
      "text/plain": [
       "(82790, 18)"
      ]
     },
     "execution_count": 5,
     "metadata": {},
     "output_type": "execute_result"
    }
   ],
   "source": [
    "mod_cloth.shape"
   ]
  },
  {
   "cell_type": "code",
   "execution_count": 6,
   "id": "3a303f0f",
   "metadata": {},
   "outputs": [
    {
     "data": {
      "application/vnd.jupyter.widget-view+json": {
       "model_id": "eb0d777f06be4904bb20f3d087c8df10",
       "version_major": 2,
       "version_minor": 0
      },
      "text/plain": [
       "Summarize dataset:   0%|          | 0/5 [00:00<?, ?it/s]"
      ]
     },
     "metadata": {},
     "output_type": "display_data"
    },
    {
     "data": {
      "application/vnd.jupyter.widget-view+json": {
       "model_id": "881ef8f28e2842f39e1141c44910c977",
       "version_major": 2,
       "version_minor": 0
      },
      "text/plain": [
       "Generate report structure:   0%|          | 0/1 [00:00<?, ?it/s]"
      ]
     },
     "metadata": {},
     "output_type": "display_data"
    },
    {
     "data": {
      "application/vnd.jupyter.widget-view+json": {
       "model_id": "76f586be7ceb4c57abdb80ab867f9293",
       "version_major": 2,
       "version_minor": 0
      },
      "text/plain": [
       "Render HTML:   0%|          | 0/1 [00:00<?, ?it/s]"
      ]
     },
     "metadata": {},
     "output_type": "display_data"
    },
    {
     "data": {
      "application/vnd.jupyter.widget-view+json": {
       "model_id": "f26d1c8a92cd452c9a5d08c7e7a1bb34",
       "version_major": 2,
       "version_minor": 0
      },
      "text/plain": [
       "Export report to file:   0%|          | 0/1 [00:00<?, ?it/s]"
      ]
     },
     "metadata": {},
     "output_type": "display_data"
    }
   ],
   "source": [
    "from pandas_profiling import ProfileReport\n",
    "prof = ProfileReport(mod_cloth)\n",
    "prof.to_file(output_file='output.html')"
   ]
  },
  {
   "cell_type": "code",
   "execution_count": 7,
   "id": "97f605a4",
   "metadata": {},
   "outputs": [
    {
     "name": "stdout",
     "output_type": "stream",
     "text": [
      "<class 'pandas.core.frame.DataFrame'>\n",
      "RangeIndex: 82790 entries, 0 to 82789\n",
      "Data columns (total 18 columns):\n",
      " #   Column          Non-Null Count  Dtype  \n",
      "---  ------          --------------  -----  \n",
      " 0   item_id         82790 non-null  int64  \n",
      " 1   waist           2882 non-null   float64\n",
      " 2   size            82790 non-null  int64  \n",
      " 3   quality         82722 non-null  float64\n",
      " 4   cup size        76535 non-null  object \n",
      " 5   hips            56064 non-null  float64\n",
      " 6   bra size        76772 non-null  float64\n",
      " 7   category        82790 non-null  object \n",
      " 8   bust            11854 non-null  object \n",
      " 9   height          81683 non-null  object \n",
      " 10  user_name       82790 non-null  object \n",
      " 11  length          82755 non-null  object \n",
      " 12  fit             82790 non-null  object \n",
      " 13  user_id         82790 non-null  int64  \n",
      " 14  shoe size       27915 non-null  float64\n",
      " 15  shoe width      18607 non-null  object \n",
      " 16  review_summary  76065 non-null  object \n",
      " 17  review_text     76065 non-null  object \n",
      "dtypes: float64(5), int64(3), object(10)\n",
      "memory usage: 11.4+ MB\n"
     ]
    }
   ],
   "source": [
    "mod_cloth.info()"
   ]
  },
  {
   "cell_type": "code",
   "execution_count": 9,
   "id": "8e70371d",
   "metadata": {},
   "outputs": [
    {
     "data": {
      "text/plain": [
       "0"
      ]
     },
     "execution_count": 9,
     "metadata": {},
     "output_type": "execute_result"
    }
   ],
   "source": [
    "mod_cloth[\"item_id\"].isnull().sum()"
   ]
  },
  {
   "cell_type": "code",
   "execution_count": 12,
   "id": "6bcf4436",
   "metadata": {},
   "outputs": [
    {
     "data": {
      "text/plain": [
       "96.51890324918469"
      ]
     },
     "execution_count": 12,
     "metadata": {},
     "output_type": "execute_result"
    }
   ],
   "source": [
    "mod_cloth[\"waist\"].isnull().sum()/mod_cloth.shape[0]*100"
   ]
  },
  {
   "cell_type": "code",
   "execution_count": 13,
   "id": "38324bee",
   "metadata": {},
   "outputs": [],
   "source": [
    "mod_cloth_d = mod_cloth.drop(\"waist\",axis=1)"
   ]
  },
  {
   "cell_type": "code",
   "execution_count": 14,
   "id": "6fc748a1",
   "metadata": {},
   "outputs": [
    {
     "data": {
      "text/plain": [
       "(82790, 17)"
      ]
     },
     "execution_count": 14,
     "metadata": {},
     "output_type": "execute_result"
    }
   ],
   "source": [
    "mod_cloth_d.shape"
   ]
  },
  {
   "cell_type": "code",
   "execution_count": 15,
   "id": "faf3309e",
   "metadata": {},
   "outputs": [],
   "source": [
    "d = {}\n",
    "for i in mod_cloth.columns:\n",
    "    d[i]=mod_cloth[i].isnull().sum()/mod_cloth.shape[0]*100"
   ]
  },
  {
   "cell_type": "code",
   "execution_count": 16,
   "id": "62283fd0",
   "metadata": {},
   "outputs": [
    {
     "data": {
      "text/plain": [
       "{'item_id': 0.0,\n",
       " 'waist': 96.51890324918469,\n",
       " 'size': 0.0,\n",
       " 'quality': 0.08213552361396304,\n",
       " 'cup size': 7.555260297137336,\n",
       " 'hips': 32.281676530982004,\n",
       " 'bra size': 7.268993839835729,\n",
       " 'category': 0.0,\n",
       " 'bust': 85.68184563353061,\n",
       " 'height': 1.3371180094214277,\n",
       " 'user_name': 0.0,\n",
       " 'length': 0.042275637154245684,\n",
       " 'fit': 0.0,\n",
       " 'user_id': 0.0,\n",
       " 'shoe size': 66.28215968112092,\n",
       " 'shoe width': 77.52506341345573,\n",
       " 'review_summary': 8.122961710351492,\n",
       " 'review_text': 8.122961710351492}"
      ]
     },
     "execution_count": 16,
     "metadata": {},
     "output_type": "execute_result"
    }
   ],
   "source": [
    "d"
   ]
  },
  {
   "cell_type": "code",
   "execution_count": 17,
   "id": "4e1a2a25",
   "metadata": {},
   "outputs": [],
   "source": [
    "l=[]\n",
    "for i in d:\n",
    "    if d[i]>50.0:\n",
    "        l.append(i)"
   ]
  },
  {
   "cell_type": "code",
   "execution_count": 18,
   "id": "38415633",
   "metadata": {},
   "outputs": [
    {
     "data": {
      "text/plain": [
       "['waist', 'bust', 'shoe size', 'shoe width']"
      ]
     },
     "execution_count": 18,
     "metadata": {},
     "output_type": "execute_result"
    }
   ],
   "source": [
    "l"
   ]
  },
  {
   "cell_type": "code",
   "execution_count": 19,
   "id": "f52f7f99",
   "metadata": {},
   "outputs": [],
   "source": [
    "mod_cloth_t = mod_cloth.drop(l,axis=1)"
   ]
  },
  {
   "cell_type": "code",
   "execution_count": 20,
   "id": "a13e3db4",
   "metadata": {},
   "outputs": [
    {
     "data": {
      "text/html": [
       "<div>\n",
       "<style scoped>\n",
       "    .dataframe tbody tr th:only-of-type {\n",
       "        vertical-align: middle;\n",
       "    }\n",
       "\n",
       "    .dataframe tbody tr th {\n",
       "        vertical-align: top;\n",
       "    }\n",
       "\n",
       "    .dataframe thead th {\n",
       "        text-align: right;\n",
       "    }\n",
       "</style>\n",
       "<table border=\"1\" class=\"dataframe\">\n",
       "  <thead>\n",
       "    <tr style=\"text-align: right;\">\n",
       "      <th></th>\n",
       "      <th>item_id</th>\n",
       "      <th>size</th>\n",
       "      <th>quality</th>\n",
       "      <th>cup size</th>\n",
       "      <th>hips</th>\n",
       "      <th>bra size</th>\n",
       "      <th>category</th>\n",
       "      <th>height</th>\n",
       "      <th>user_name</th>\n",
       "      <th>length</th>\n",
       "      <th>fit</th>\n",
       "      <th>user_id</th>\n",
       "      <th>review_summary</th>\n",
       "      <th>review_text</th>\n",
       "    </tr>\n",
       "  </thead>\n",
       "  <tbody>\n",
       "    <tr>\n",
       "      <th>0</th>\n",
       "      <td>123373</td>\n",
       "      <td>7</td>\n",
       "      <td>5.0</td>\n",
       "      <td>d</td>\n",
       "      <td>38.0</td>\n",
       "      <td>34.0</td>\n",
       "      <td>new</td>\n",
       "      <td>5ft 6in</td>\n",
       "      <td>Emily</td>\n",
       "      <td>just right</td>\n",
       "      <td>small</td>\n",
       "      <td>991571</td>\n",
       "      <td>NaN</td>\n",
       "      <td>NaN</td>\n",
       "    </tr>\n",
       "    <tr>\n",
       "      <th>1</th>\n",
       "      <td>123373</td>\n",
       "      <td>13</td>\n",
       "      <td>3.0</td>\n",
       "      <td>b</td>\n",
       "      <td>30.0</td>\n",
       "      <td>36.0</td>\n",
       "      <td>new</td>\n",
       "      <td>5ft 2in</td>\n",
       "      <td>sydneybraden2001</td>\n",
       "      <td>just right</td>\n",
       "      <td>small</td>\n",
       "      <td>587883</td>\n",
       "      <td>NaN</td>\n",
       "      <td>NaN</td>\n",
       "    </tr>\n",
       "    <tr>\n",
       "      <th>2</th>\n",
       "      <td>123373</td>\n",
       "      <td>7</td>\n",
       "      <td>2.0</td>\n",
       "      <td>b</td>\n",
       "      <td>NaN</td>\n",
       "      <td>32.0</td>\n",
       "      <td>new</td>\n",
       "      <td>5ft 7in</td>\n",
       "      <td>Ugggh</td>\n",
       "      <td>slightly long</td>\n",
       "      <td>small</td>\n",
       "      <td>395665</td>\n",
       "      <td>NaN</td>\n",
       "      <td>NaN</td>\n",
       "    </tr>\n",
       "    <tr>\n",
       "      <th>3</th>\n",
       "      <td>123373</td>\n",
       "      <td>21</td>\n",
       "      <td>5.0</td>\n",
       "      <td>dd/e</td>\n",
       "      <td>NaN</td>\n",
       "      <td>NaN</td>\n",
       "      <td>new</td>\n",
       "      <td>NaN</td>\n",
       "      <td>alexmeyer626</td>\n",
       "      <td>just right</td>\n",
       "      <td>fit</td>\n",
       "      <td>875643</td>\n",
       "      <td>NaN</td>\n",
       "      <td>NaN</td>\n",
       "    </tr>\n",
       "    <tr>\n",
       "      <th>4</th>\n",
       "      <td>123373</td>\n",
       "      <td>18</td>\n",
       "      <td>5.0</td>\n",
       "      <td>b</td>\n",
       "      <td>NaN</td>\n",
       "      <td>36.0</td>\n",
       "      <td>new</td>\n",
       "      <td>5ft 2in</td>\n",
       "      <td>dberrones1</td>\n",
       "      <td>slightly long</td>\n",
       "      <td>small</td>\n",
       "      <td>944840</td>\n",
       "      <td>NaN</td>\n",
       "      <td>NaN</td>\n",
       "    </tr>\n",
       "    <tr>\n",
       "      <th>...</th>\n",
       "      <td>...</td>\n",
       "      <td>...</td>\n",
       "      <td>...</td>\n",
       "      <td>...</td>\n",
       "      <td>...</td>\n",
       "      <td>...</td>\n",
       "      <td>...</td>\n",
       "      <td>...</td>\n",
       "      <td>...</td>\n",
       "      <td>...</td>\n",
       "      <td>...</td>\n",
       "      <td>...</td>\n",
       "      <td>...</td>\n",
       "      <td>...</td>\n",
       "    </tr>\n",
       "    <tr>\n",
       "      <th>82785</th>\n",
       "      <td>807722</td>\n",
       "      <td>8</td>\n",
       "      <td>4.0</td>\n",
       "      <td>b</td>\n",
       "      <td>NaN</td>\n",
       "      <td>36.0</td>\n",
       "      <td>outerwear</td>\n",
       "      <td>5ft 8in</td>\n",
       "      <td>Jennifer</td>\n",
       "      <td>just right</td>\n",
       "      <td>fit</td>\n",
       "      <td>727820</td>\n",
       "      <td>Cute jacket!</td>\n",
       "      <td>Cute jacket!</td>\n",
       "    </tr>\n",
       "    <tr>\n",
       "      <th>82786</th>\n",
       "      <td>807722</td>\n",
       "      <td>12</td>\n",
       "      <td>5.0</td>\n",
       "      <td>ddd/f</td>\n",
       "      <td>NaN</td>\n",
       "      <td>34.0</td>\n",
       "      <td>outerwear</td>\n",
       "      <td>5ft 5in</td>\n",
       "      <td>Kelli</td>\n",
       "      <td>slightly long</td>\n",
       "      <td>small</td>\n",
       "      <td>197040</td>\n",
       "      <td>It's a beautiful jacket.</td>\n",
       "      <td>It's a beautiful jacket. I love how it's knit ...</td>\n",
       "    </tr>\n",
       "    <tr>\n",
       "      <th>82787</th>\n",
       "      <td>807722</td>\n",
       "      <td>12</td>\n",
       "      <td>5.0</td>\n",
       "      <td>dddd/g</td>\n",
       "      <td>36.0</td>\n",
       "      <td>32.0</td>\n",
       "      <td>outerwear</td>\n",
       "      <td>5ft 4in</td>\n",
       "      <td>elacount</td>\n",
       "      <td>just right</td>\n",
       "      <td>fit</td>\n",
       "      <td>102493</td>\n",
       "      <td>I love this blazer. It is</td>\n",
       "      <td>I love this blazer. It is a great office piece...</td>\n",
       "    </tr>\n",
       "    <tr>\n",
       "      <th>82788</th>\n",
       "      <td>807722</td>\n",
       "      <td>12</td>\n",
       "      <td>4.0</td>\n",
       "      <td>NaN</td>\n",
       "      <td>NaN</td>\n",
       "      <td>NaN</td>\n",
       "      <td>outerwear</td>\n",
       "      <td>5ft 3in</td>\n",
       "      <td>jennaklinner</td>\n",
       "      <td>just right</td>\n",
       "      <td>fit</td>\n",
       "      <td>756491</td>\n",
       "      <td>I love this blazer!! I wo</td>\n",
       "      <td>I love this blazer!! I wore it yesterday and g...</td>\n",
       "    </tr>\n",
       "    <tr>\n",
       "      <th>82789</th>\n",
       "      <td>807722</td>\n",
       "      <td>4</td>\n",
       "      <td>4.0</td>\n",
       "      <td>d</td>\n",
       "      <td>39.0</td>\n",
       "      <td>32.0</td>\n",
       "      <td>outerwear</td>\n",
       "      <td>6ft</td>\n",
       "      <td>maireadsteadman</td>\n",
       "      <td>just right</td>\n",
       "      <td>fit</td>\n",
       "      <td>78305</td>\n",
       "      <td>I love this piece. I'm re</td>\n",
       "      <td>I love this piece. I'm really happy with it!</td>\n",
       "    </tr>\n",
       "  </tbody>\n",
       "</table>\n",
       "<p>82790 rows × 14 columns</p>\n",
       "</div>"
      ],
      "text/plain": [
       "       item_id  size  quality cup size  hips  bra size   category   height  \\\n",
       "0       123373     7      5.0        d  38.0      34.0        new  5ft 6in   \n",
       "1       123373    13      3.0        b  30.0      36.0        new  5ft 2in   \n",
       "2       123373     7      2.0        b   NaN      32.0        new  5ft 7in   \n",
       "3       123373    21      5.0     dd/e   NaN       NaN        new      NaN   \n",
       "4       123373    18      5.0        b   NaN      36.0        new  5ft 2in   \n",
       "...        ...   ...      ...      ...   ...       ...        ...      ...   \n",
       "82785   807722     8      4.0        b   NaN      36.0  outerwear  5ft 8in   \n",
       "82786   807722    12      5.0    ddd/f   NaN      34.0  outerwear  5ft 5in   \n",
       "82787   807722    12      5.0   dddd/g  36.0      32.0  outerwear  5ft 4in   \n",
       "82788   807722    12      4.0      NaN   NaN       NaN  outerwear  5ft 3in   \n",
       "82789   807722     4      4.0        d  39.0      32.0  outerwear      6ft   \n",
       "\n",
       "              user_name         length    fit  user_id  \\\n",
       "0                 Emily     just right  small   991571   \n",
       "1      sydneybraden2001     just right  small   587883   \n",
       "2                 Ugggh  slightly long  small   395665   \n",
       "3          alexmeyer626     just right    fit   875643   \n",
       "4            dberrones1  slightly long  small   944840   \n",
       "...                 ...            ...    ...      ...   \n",
       "82785          Jennifer     just right    fit   727820   \n",
       "82786             Kelli  slightly long  small   197040   \n",
       "82787          elacount     just right    fit   102493   \n",
       "82788      jennaklinner     just right    fit   756491   \n",
       "82789   maireadsteadman     just right    fit    78305   \n",
       "\n",
       "                  review_summary  \\\n",
       "0                            NaN   \n",
       "1                            NaN   \n",
       "2                            NaN   \n",
       "3                            NaN   \n",
       "4                            NaN   \n",
       "...                          ...   \n",
       "82785               Cute jacket!   \n",
       "82786   It's a beautiful jacket.   \n",
       "82787  I love this blazer. It is   \n",
       "82788  I love this blazer!! I wo   \n",
       "82789  I love this piece. I'm re   \n",
       "\n",
       "                                             review_text  \n",
       "0                                                    NaN  \n",
       "1                                                    NaN  \n",
       "2                                                    NaN  \n",
       "3                                                    NaN  \n",
       "4                                                    NaN  \n",
       "...                                                  ...  \n",
       "82785                                       Cute jacket!  \n",
       "82786  It's a beautiful jacket. I love how it's knit ...  \n",
       "82787  I love this blazer. It is a great office piece...  \n",
       "82788  I love this blazer!! I wore it yesterday and g...  \n",
       "82789       I love this piece. I'm really happy with it!  \n",
       "\n",
       "[82790 rows x 14 columns]"
      ]
     },
     "execution_count": 20,
     "metadata": {},
     "output_type": "execute_result"
    }
   ],
   "source": [
    "mod_cloth_t"
   ]
  },
  {
   "cell_type": "code",
   "execution_count": 21,
   "id": "c7527c1d",
   "metadata": {},
   "outputs": [
    {
     "name": "stdout",
     "output_type": "stream",
     "text": [
      "<class 'pandas.core.frame.DataFrame'>\n",
      "RangeIndex: 82790 entries, 0 to 82789\n",
      "Data columns (total 14 columns):\n",
      " #   Column          Non-Null Count  Dtype  \n",
      "---  ------          --------------  -----  \n",
      " 0   item_id         82790 non-null  int64  \n",
      " 1   size            82790 non-null  int64  \n",
      " 2   quality         82722 non-null  float64\n",
      " 3   cup size        76535 non-null  object \n",
      " 4   hips            56064 non-null  float64\n",
      " 5   bra size        76772 non-null  float64\n",
      " 6   category        82790 non-null  object \n",
      " 7   height          81683 non-null  object \n",
      " 8   user_name       82790 non-null  object \n",
      " 9   length          82755 non-null  object \n",
      " 10  fit             82790 non-null  object \n",
      " 11  user_id         82790 non-null  int64  \n",
      " 12  review_summary  76065 non-null  object \n",
      " 13  review_text     76065 non-null  object \n",
      "dtypes: float64(3), int64(3), object(8)\n",
      "memory usage: 8.8+ MB\n"
     ]
    }
   ],
   "source": [
    "mod_cloth_t.info()"
   ]
  },
  {
   "cell_type": "code",
   "execution_count": 23,
   "id": "2c4674cb",
   "metadata": {},
   "outputs": [],
   "source": [
    "import matplotlib.pyplot as plt"
   ]
  },
  {
   "cell_type": "code",
   "execution_count": 28,
   "id": "f7579883",
   "metadata": {},
   "outputs": [
    {
     "data": {
      "text/plain": [
       "{'whiskers': [<matplotlib.lines.Line2D at 0x1941f1d1190>,\n",
       "  <matplotlib.lines.Line2D at 0x1941f1d1460>],\n",
       " 'caps': [<matplotlib.lines.Line2D at 0x1941f1d1730>,\n",
       "  <matplotlib.lines.Line2D at 0x1941f1d1a00>],\n",
       " 'boxes': [<matplotlib.lines.Line2D at 0x1941f1e0e80>],\n",
       " 'medians': [<matplotlib.lines.Line2D at 0x1941f1d1cd0>],\n",
       " 'fliers': [<matplotlib.lines.Line2D at 0x1941f1d1fa0>],\n",
       " 'means': []}"
      ]
     },
     "execution_count": 28,
     "metadata": {},
     "output_type": "execute_result"
    },
    {
     "data": {
      "image/png": "[encoded data removed]",
      "text/plain": [
       "<Figure size 432x288 with 1 Axes>"
      ]
     },
     "metadata": {
      "needs_background": "light"
     },
     "output_type": "display_data"
    }
   ],
   "source": [
    "plt.boxplot(mod_cloth_t[\"size\"])"
   ]
  },
  {
   "cell_type": "code",
   "execution_count": 30,
   "id": "fac6773a",
   "metadata": {},
   "outputs": [
    {
     "data": {
      "text/plain": [
       "count    82722.000000\n",
       "mean         3.949058\n",
       "std          0.992783\n",
       "min          1.000000\n",
       "25%          3.000000\n",
       "50%          4.000000\n",
       "75%          5.000000\n",
       "max          5.000000\n",
       "Name: quality, dtype: float64"
      ]
     },
     "execution_count": 30,
     "metadata": {},
     "output_type": "execute_result"
    }
   ],
   "source": [
    "mod_cloth_t[\"quality\"].describe()"
   ]
  },
  {
   "cell_type": "code",
   "execution_count": 31,
   "id": "11cd0eed",
   "metadata": {},
   "outputs": [
    {
     "data": {
      "text/plain": [
       "{'whiskers': [<matplotlib.lines.Line2D at 0x1941d305a00>,\n",
       "  <matplotlib.lines.Line2D at 0x1941d305cd0>],\n",
       " 'caps': [<matplotlib.lines.Line2D at 0x1941d305fa0>,\n",
       "  <matplotlib.lines.Line2D at 0x1941d2e42b0>],\n",
       " 'boxes': [<matplotlib.lines.Line2D at 0x1941d305730>],\n",
       " 'medians': [<matplotlib.lines.Line2D at 0x1941d2e4580>],\n",
       " 'fliers': [<matplotlib.lines.Line2D at 0x1941d2e4850>],\n",
       " 'means': []}"
      ]
     },
     "execution_count": 31,
     "metadata": {},
     "output_type": "execute_result"
    },
    {
     "data": {
      "image/png": "[encoded data removed]",
      "text/plain": [
       "<Figure size 432x288 with 1 Axes>"
      ]
     },
     "metadata": {
      "needs_background": "light"
     },
     "output_type": "display_data"
    }
   ],
   "source": [
    "plt.boxplot(mod_cloth_t[\"quality\"])"
   ]
  },
  {
   "cell_type": "code",
   "execution_count": 34,
   "id": "c69cee5a",
   "metadata": {},
   "outputs": [],
   "source": [
    "mod_cloth_t['quality'] = mod_cloth_t['quality'].fillna(mod_cloth_t['quality'].mean())"
   ]
  },
  {
   "cell_type": "code",
   "execution_count": 35,
   "id": "30b4b90f",
   "metadata": {},
   "outputs": [
    {
     "name": "stdout",
     "output_type": "stream",
     "text": [
      "<class 'pandas.core.frame.DataFrame'>\n",
      "RangeIndex: 82790 entries, 0 to 82789\n",
      "Data columns (total 14 columns):\n",
      " #   Column          Non-Null Count  Dtype  \n",
      "---  ------          --------------  -----  \n",
      " 0   item_id         82790 non-null  int64  \n",
      " 1   size            82790 non-null  int64  \n",
      " 2   quality         82790 non-null  float64\n",
      " 3   cup size        76535 non-null  object \n",
      " 4   hips            56064 non-null  float64\n",
      " 5   bra size        76772 non-null  float64\n",
      " 6   category        82790 non-null  object \n",
      " 7   height          81683 non-null  object \n",
      " 8   user_name       82790 non-null  object \n",
      " 9   length          82755 non-null  object \n",
      " 10  fit             82790 non-null  object \n",
      " 11  user_id         82790 non-null  int64  \n",
      " 12  review_summary  76065 non-null  object \n",
      " 13  review_text     76065 non-null  object \n",
      "dtypes: float64(3), int64(3), object(8)\n",
      "memory usage: 8.8+ MB\n"
     ]
    }
   ],
   "source": [
    "mod_cloth_t.info()"
   ]
  },
  {
   "cell_type": "code",
   "execution_count": 36,
   "id": "05f9aae6",
   "metadata": {},
   "outputs": [
    {
     "data": {
      "text/plain": [
       "c         18370\n",
       "d         16149\n",
       "b         14628\n",
       "dd/e      12557\n",
       "ddd/f      6117\n",
       "a          4791\n",
       "dddd/g     2008\n",
       "h          1042\n",
       "aa          296\n",
       "j           200\n",
       "i           189\n",
       "k           188\n",
       "Name: cup size, dtype: int64"
      ]
     },
     "execution_count": 36,
     "metadata": {},
     "output_type": "execute_result"
    }
   ],
   "source": [
    "mod_cloth_t['cup size'].value_counts()"
   ]
  },
  {
   "cell_type": "code",
   "execution_count": 37,
   "id": "09c51f73",
   "metadata": {},
   "outputs": [
    {
     "data": {
      "text/plain": [
       "6255"
      ]
     },
     "execution_count": 37,
     "metadata": {},
     "output_type": "execute_result"
    }
   ],
   "source": [
    "mod_cloth_t['cup size'].isnull().sum()"
   ]
  },
  {
   "cell_type": "code",
   "execution_count": 38,
   "id": "8a78af2c",
   "metadata": {},
   "outputs": [],
   "source": [
    "mod_cloth_t['cup size'] = mod_cloth_t['cup size'].fillna(mod_cloth_t['cup size'].mode())"
   ]
  },
  {
   "cell_type": "code",
   "execution_count": 39,
   "id": "09c490bc",
   "metadata": {},
   "outputs": [
    {
     "data": {
      "text/plain": [
       "count    76772.000000\n",
       "mean        35.972125\n",
       "std          3.224907\n",
       "min         28.000000\n",
       "25%         34.000000\n",
       "50%         36.000000\n",
       "75%         38.000000\n",
       "max         48.000000\n",
       "Name: bra size, dtype: float64"
      ]
     },
     "execution_count": 39,
     "metadata": {},
     "output_type": "execute_result"
    }
   ],
   "source": [
    "mod_cloth_t['bra size'].describe()"
   ]
  },
  {
   "cell_type": "code",
   "execution_count": 40,
   "id": "6e64746b",
   "metadata": {},
   "outputs": [],
   "source": [
    "mod_cloth_t['bra size'] = mod_cloth_t['bra size'].fillna(mod_cloth_t['bra size'].mode())"
   ]
  },
  {
   "cell_type": "code",
   "execution_count": 41,
   "id": "77bc9f75",
   "metadata": {},
   "outputs": [
    {
     "data": {
      "text/plain": [
       "count    76772.000000\n",
       "mean        35.972125\n",
       "std          3.224907\n",
       "min         28.000000\n",
       "25%         34.000000\n",
       "50%         36.000000\n",
       "75%         38.000000\n",
       "max         48.000000\n",
       "Name: bra size, dtype: float64"
      ]
     },
     "execution_count": 41,
     "metadata": {},
     "output_type": "execute_result"
    }
   ],
   "source": [
    "mod_cloth_t['bra size'].describe()"
   ]
  },
  {
   "cell_type": "code",
   "execution_count": 42,
   "id": "dcfdfdd8",
   "metadata": {},
   "outputs": [
    {
     "data": {
      "text/plain": [
       "count    56064.000000\n",
       "mean        40.358501\n",
       "std          5.827166\n",
       "min         30.000000\n",
       "25%         36.000000\n",
       "50%         39.000000\n",
       "75%         43.000000\n",
       "max         60.000000\n",
       "Name: hips, dtype: float64"
      ]
     },
     "execution_count": 42,
     "metadata": {},
     "output_type": "execute_result"
    }
   ],
   "source": [
    "mod_cloth_t['hips'].describe()"
   ]
  },
  {
   "cell_type": "code",
   "execution_count": 43,
   "id": "2a730daf",
   "metadata": {},
   "outputs": [],
   "source": [
    "mod_cloth_t['hips'] = mod_cloth_t['hips'].fillna(mod_cloth_t['hips'].mean())"
   ]
  },
  {
   "cell_type": "code",
   "execution_count": 44,
   "id": "d1e896d4",
   "metadata": {},
   "outputs": [
    {
     "data": {
      "text/plain": [
       "5ft 4in     11928\n",
       "5ft 6in     11891\n",
       "5ft 5in      9418\n",
       "5ft 7in      9161\n",
       "5ft 3in      8680\n",
       "5ft 2in      7684\n",
       "5ft 8in      6420\n",
       "5ft 9in      4574\n",
       "5ft 1in      3571\n",
       "5ft 10in     2715\n",
       "5ft          2252\n",
       "5ft 11in     1395\n",
       "4ft 11in      731\n",
       "6ft           630\n",
       "4ft 10in      242\n",
       "6ft 1in       144\n",
       "6ft 2in        78\n",
       "4ft 9in        48\n",
       "7ft 11in       23\n",
       "3ft            16\n",
       "6ft 3in        12\n",
       "4ft 8in        11\n",
       "6ft 5in        10\n",
       "6ft 6in         8\n",
       "6ft 4in         7\n",
       "4ft 5in         5\n",
       "4ft 7in         5\n",
       "3ft 4in         3\n",
       "4ft 2in         3\n",
       "3ft 3in         2\n",
       "7ft 7in         2\n",
       "6ft 8in         2\n",
       "7ft 6in         2\n",
       "3ft 6in         2\n",
       "4ft 4in         2\n",
       "7ft 5in         1\n",
       "7ft 3in         1\n",
       "3ft 11in        1\n",
       "6ft 7in         1\n",
       "3ft 2in         1\n",
       "4ft 6in         1\n",
       "Name: height, dtype: int64"
      ]
     },
     "execution_count": 44,
     "metadata": {},
     "output_type": "execute_result"
    }
   ],
   "source": [
    "mod_cloth_t['height'].value_counts()"
   ]
  },
  {
   "cell_type": "code",
   "execution_count": 45,
   "id": "2a364205",
   "metadata": {},
   "outputs": [],
   "source": [
    "mod_cloth_t['height'] = mod_cloth_t['height'].fillna(mod_cloth_t['height'].mode())"
   ]
  },
  {
   "cell_type": "code",
   "execution_count": null,
   "id": "1f389df5",
   "metadata": {},
   "outputs": [],
   "source": []
  }
 ],
 "metadata": {
  "kernelspec": {
   "display_name": "Python 3 (ipykernel)",
   "language": "python",
   "name": "python3"
  },
  "language_info": {
   "codemirror_mode": {
    "name": "ipython",
    "version": 3
   },
   "file_extension": ".py",
   "mimetype": "text/x-python",
   "name": "python",
   "nbconvert_exporter": "python",
   "pygments_lexer": "ipython3",
   "version": "3.9.12"
  }
 },
 "nbformat": 4,
 "nbformat_minor": 5
}
